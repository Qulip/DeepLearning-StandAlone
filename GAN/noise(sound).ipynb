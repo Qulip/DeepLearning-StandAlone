{
 "cells": [
  {
   "cell_type": "code",
   "execution_count": 2,
   "id": "ed4ef575",
   "metadata": {
    "colab": {
     "base_uri": "https://localhost:8080/",
     "height": 574
    },
    "executionInfo": {
     "elapsed": 24834,
     "status": "error",
     "timestamp": 1620978797445,
     "user": {
      "displayName": "유일권",
      "photoUrl": "https://lh6.googleusercontent.com/-m9x9S5EGeIA/AAAAAAAAAAI/AAAAAAAAABs/NAaD8AOG0Qw/s64/photo.jpg",
      "userId": "05737179628675053908"
     },
     "user_tz": -540
    },
    "id": "ed4ef575",
    "outputId": "522c651a-173d-4f44-f0d8-fcbe4e980b4f"
   },
   "outputs": [
    {
     "name": "stdout",
     "output_type": "stream",
     "text": [
      "pandas version :  1.2.3\n",
      "numpy version :  1.19.2\n"
     ]
    }
   ],
   "source": [
    "from tensorflow.keras.layers import Dense, LeakyReLU, Dropout, Input, Reshape, GRU\n",
    "from tensorflow.keras.models import Sequential, Model\n",
    "from tensorflow.keras.optimizers import Adam\n",
    "from tensorflow.keras.initializers import RandomNormal\n",
    "#import tensorflow as tf\n",
    "import numpy as np\n",
    "import matplotlib.pyplot as plt\n",
    "import os\n",
    "import librosa\n",
    "import pandas as pd\n",
    "import librosa.display\n",
    "print(\"pandas version : \",pd.__version__)\n",
    "print(\"numpy version : \",np.version.version)\n",
    "#if colab\n",
    "#from google.colab import drive\n",
    "\n",
    "#drive.mount('/content/drive')\n",
    "#%cd drive/MyDrive/Colab\\ Notebooks\n",
    "\n",
    "sr = 44100\n",
    "\n",
    "# gan에 입력되는 noise에 대한 dimension\n",
    "NOISE_DIM = 10 #잘 모르겠음...ㅎㅎ\n",
    "\n",
    "# adam optimizer 정의, learning_rate = 0.0002, beta_1로 줍니다.\n",
    "# Vanilla Gan과 DCGAN에서 이렇게 셋팅을 해주는데\n",
    "# 이렇게 해줘야 훨씬 학습을 잘합니다.\n",
    "# 그렇다고 합니다..ㅎㅎ\n",
    "adam = Adam(lr=0.0002, beta_1=0.5)\n",
    "mfcc_data = []"
   ]
  },
  {
   "cell_type": "code",
   "execution_count": 22,
   "id": "f40460e3",
   "metadata": {
    "colab": {
     "base_uri": "https://localhost:8080/"
    },
    "executionInfo": {
     "elapsed": 7364,
     "status": "ok",
     "timestamp": 1620978529906,
     "user": {
      "displayName": "유일권",
      "photoUrl": "https://lh6.googleusercontent.com/-m9x9S5EGeIA/AAAAAAAAAAI/AAAAAAAAABs/NAaD8AOG0Qw/s64/photo.jpg",
      "userId": "05737179628675053908"
     },
     "user_tz": -540
    },
    "id": "f40460e3",
    "outputId": "711bf4e3-471e-4c1c-e147-53c010d4c770"
   },
   "outputs": [
    {
     "name": "stdout",
     "output_type": "stream",
     "text": [
      "Foldername : 1 - 20 files\n",
      "(20, 66150)\n"
     ]
    },
    {
     "data": {
      "text/plain": [
       "(20, 517, 65)"
      ]
     },
     "execution_count": 22,
     "metadata": {},
     "output_type": "execute_result"
    }
   ],
   "source": [
    "def load_wave_generator(path): #이전 깃헙에서 가져온 파일 읽어들이는 함수(라벨 붙이는것만 삭제)\n",
    "\n",
    "    batch_waves = []\n",
    "    stft_data = []\n",
    "    sounds = []\n",
    "    temp = []\n",
    "    global s_data, sound_data\n",
    "\n",
    "    folders = os.listdir(path)\n",
    "\n",
    "    for folder in folders:\n",
    "        if not os.path.isdir(path):continue #폴더가 아니면 continue\n",
    "        files = os.listdir(path+\"/\"+folder)\n",
    "        print(\"Foldername :\",folder,\"-\",len(files),\"files\")\n",
    "        #폴더 이름과 그 폴더에 속하는 파일 갯수 출력\n",
    "        for wav in files:\n",
    "            if not wav.endswith(\".wav\"):continue\n",
    "            else:\n",
    "                #print(\"Filename :\",wav)#.wav 파일이 아니면 continue\n",
    "                y, sr = librosa.load(path+\"/\"+folder+\"/\"+wav)\n",
    "                ny = y[:sr*3]\n",
    "                #print(ny.shape)\n",
    "                stft = librosa.stft(ny, n_fft=128, hop_length=128, win_length=128).T\n",
    "                stft = np.abs(stft)\n",
    "                sounds.append(ny)\n",
    "                stft_data.append(stft)\n",
    "                #print(\"Stft Size : \", stft.shape)\n",
    "                \n",
    "    #end loop\n",
    "    #print(\"X_data :\",np.shape(X_data))\n",
    "    s_data = stft_data\n",
    "    sound_data = sounds\n",
    "    \n",
    "\n",
    "load_wave_generator(\"./data\")    #일단 RYU 음성 읽어오기\n",
    "stft_data = np.array(s_data)\n",
    "sound_data = np.array(sound_data)\n",
    "print(sound_data.shape)\n",
    "stft_data.shape"
   ]
  },
  {
   "cell_type": "code",
   "execution_count": 28,
   "id": "afa1659f",
   "metadata": {
    "colab": {
     "base_uri": "https://localhost:8080/"
    },
    "executionInfo": {
     "elapsed": 536,
     "status": "ok",
     "timestamp": 1620977903786,
     "user": {
      "displayName": "유일권",
      "photoUrl": "https://lh6.googleusercontent.com/-m9x9S5EGeIA/AAAAAAAAAAI/AAAAAAAAABs/NAaD8AOG0Qw/s64/photo.jpg",
      "userId": "05737179628675053908"
     },
     "user_tz": -540
    },
    "id": "afa1659f",
    "outputId": "6dec0963-ef15-4e64-f053-e589b52bb8d1"
   },
   "outputs": [
    {
     "name": "stdout",
     "output_type": "stream",
     "text": [
      "[0.         0.         0.         ... 0.00399366 0.00406321 0.0038584 ]\n"
     ]
    },
    {
     "data": {
      "text/plain": [
       "array([1.0597927e-01, 1.4112803e-01, 8.7583676e-02, 3.7521448e-02,\n",
       "       3.8782850e-02, 3.7611499e-02, 2.2934193e-02, 3.8545222e-03,\n",
       "       1.1256437e-02, 1.3211038e-02, 1.5806854e-02, 7.5846161e-03,\n",
       "       1.9436778e-03, 1.5288853e-03, 1.4703822e-03, 1.8345336e-03,\n",
       "       1.5009630e-04, 6.9399521e-04, 6.8250403e-04, 1.0401953e-03,\n",
       "       7.2420889e-04, 5.8555405e-04, 7.6894794e-04, 3.4450580e-04,\n",
       "       2.2521090e-04, 7.7133664e-05, 2.4862142e-04, 1.7263670e-04,\n",
       "       2.3398046e-04, 2.0873816e-04, 1.4482804e-04, 1.4498815e-04,\n",
       "       9.4971823e-05, 1.6112895e-04, 3.1206160e-04, 2.5094472e-04,\n",
       "       1.2180474e-04, 1.5647164e-04, 7.6910816e-05, 5.3549495e-05,\n",
       "       8.2634375e-05, 1.2992710e-04, 2.1572060e-04, 9.0762638e-05,\n",
       "       1.2009193e-04, 4.3984062e-05, 1.2068650e-04, 7.4433003e-05,\n",
       "       1.0838074e-04, 1.8851830e-04, 2.2122456e-04, 1.9341186e-04,\n",
       "       2.2803004e-04, 2.7921802e-04, 1.3809527e-04, 1.5913685e-04,\n",
       "       8.9145316e-05, 1.1872202e-04, 2.6116733e-04, 2.0432184e-04,\n",
       "       7.7129764e-05, 5.9984264e-05, 2.7465045e-05, 1.3898758e-05,\n",
       "       1.1357711e-06], dtype=float32)"
      ]
     },
     "execution_count": 28,
     "metadata": {},
     "output_type": "execute_result"
    }
   ],
   "source": [
    "print(sound_data[0])\n",
    "stft_data[0][100]"
   ]
  },
  {
   "cell_type": "code",
   "execution_count": 30,
   "id": "8cb0a370",
   "metadata": {},
   "outputs": [
    {
     "name": "stdout",
     "output_type": "stream",
     "text": [
      "0.59403914   -0.30628192\n"
     ]
    }
   ],
   "source": [
    "best = -1000.1\n",
    "low = 1000.1\n",
    "for i in range(0,66150):\n",
    "    if(sound_data[0][i]>best):\n",
    "        best = sound_data[0][i]\n",
    "    if(sound_data[0][i]<low):\n",
    "        low = sound_data[0][i]\n",
    "               \n",
    "print(best,\" \",low)"
   ]
  },
  {
   "cell_type": "code",
   "execution_count": 31,
   "id": "abda7509",
   "metadata": {
    "id": "abda7509"
   },
   "outputs": [],
   "source": [
    "\"\"\"\n",
    "generator = Sequential([                 #generator 시퀀스 생성 \n",
    "    Dense(256, input_dim=NOISE_DIM), \n",
    "    LeakyReLU(0.2), \n",
    "    Dense(512), \n",
    "    LeakyReLU(0.2), \n",
    "    Dense(1024), \n",
    "    LeakyReLU(0.2), \n",
    "    Dense(1025, activation='tanh'),\n",
    "])\n",
    "\"\"\"\n",
    "generator = Sequential()\n",
    "generator.add(Dense(512, input_dim=NOISE_DIM))\n",
    "generator.add(LeakyReLU(0.2))\n",
    "generator.add(Dense(8192))\n",
    "generator.add(LeakyReLU(0.2))\n",
    "generator.add(Dense(66150, activation='tanh'))"
   ]
  },
  {
   "cell_type": "code",
   "execution_count": 32,
   "id": "3213dce9",
   "metadata": {
    "colab": {
     "base_uri": "https://localhost:8080/"
    },
    "executionInfo": {
     "elapsed": 493,
     "status": "ok",
     "timestamp": 1620977908709,
     "user": {
      "displayName": "유일권",
      "photoUrl": "https://lh6.googleusercontent.com/-m9x9S5EGeIA/AAAAAAAAAAI/AAAAAAAAABs/NAaD8AOG0Qw/s64/photo.jpg",
      "userId": "05737179628675053908"
     },
     "user_tz": -540
    },
    "id": "3213dce9",
    "outputId": "7c73692b-f1e1-4009-dcd7-f594c27994c4"
   },
   "outputs": [
    {
     "name": "stdout",
     "output_type": "stream",
     "text": [
      "Model: \"sequential_4\"\n",
      "_________________________________________________________________\n",
      "Layer (type)                 Output Shape              Param #   \n",
      "=================================================================\n",
      "dense_14 (Dense)             (None, 512)               5632      \n",
      "_________________________________________________________________\n",
      "leaky_re_lu_9 (LeakyReLU)    (None, 512)               0         \n",
      "_________________________________________________________________\n",
      "dense_15 (Dense)             (None, 8192)              4202496   \n",
      "_________________________________________________________________\n",
      "leaky_re_lu_10 (LeakyReLU)   (None, 8192)              0         \n",
      "_________________________________________________________________\n",
      "dense_16 (Dense)             (None, 66150)             541966950 \n",
      "=================================================================\n",
      "Total params: 546,175,078\n",
      "Trainable params: 546,175,078\n",
      "Non-trainable params: 0\n",
      "_________________________________________________________________\n"
     ]
    }
   ],
   "source": [
    "generator.summary()"
   ]
  },
  {
   "cell_type": "code",
   "execution_count": 24,
   "id": "b28884e7",
   "metadata": {
    "id": "b28884e7"
   },
   "outputs": [
    {
     "data": {
      "text/plain": [
       "\"\\ndiscriminator = Sequential()\\ndiscriminator.add(GRU(128, input_shape=(862,65)))\\ndiscriminator.add(Dense(64, activation='relu'))\\ndiscriminator.add(Dense(32, activation='relu'))\\ndiscriminator.add(Dense(1, activation='sigmoid'))\\n\""
      ]
     },
     "execution_count": 24,
     "metadata": {},
     "output_type": "execute_result"
    }
   ],
   "source": [
    "\n",
    "discriminator = Sequential([\n",
    "    Dense(1024, input_shape=(66150,), kernel_initializer=RandomNormal(stddev=0.02)),\n",
    "    LeakyReLU(0.2), #relu의 개선버전\n",
    "    Dropout(0.3), \n",
    "    Dense(512),\n",
    "    LeakyReLU(0.2), \n",
    "    Dropout(0.3), \n",
    "    Dense(256),\n",
    "    LeakyReLU(0.2), \n",
    "    Dropout(0.3), \n",
    "    Dense(1, activation='sigmoid')\n",
    "])\n",
    "\"\"\"\n",
    "discriminator = Sequential()\n",
    "discriminator.add(GRU(128, input_shape=(862,65)))\n",
    "discriminator.add(Dense(64, activation='relu'))\n",
    "discriminator.add(Dense(32, activation='relu'))\n",
    "discriminator.add(Dense(1, activation='sigmoid'))\n",
    "\"\"\""
   ]
  },
  {
   "cell_type": "code",
   "execution_count": 25,
   "id": "5102a073",
   "metadata": {
    "colab": {
     "base_uri": "https://localhost:8080/"
    },
    "executionInfo": {
     "elapsed": 477,
     "status": "ok",
     "timestamp": 1620977910695,
     "user": {
      "displayName": "유일권",
      "photoUrl": "https://lh6.googleusercontent.com/-m9x9S5EGeIA/AAAAAAAAAAI/AAAAAAAAABs/NAaD8AOG0Qw/s64/photo.jpg",
      "userId": "05737179628675053908"
     },
     "user_tz": -540
    },
    "id": "5102a073",
    "outputId": "4d63a20c-45a9-4738-b142-381e47642182"
   },
   "outputs": [
    {
     "name": "stdout",
     "output_type": "stream",
     "text": [
      "Model: \"sequential_3\"\n",
      "_________________________________________________________________\n",
      "Layer (type)                 Output Shape              Param #   \n",
      "=================================================================\n",
      "dense_10 (Dense)             (None, 1024)              67738624  \n",
      "_________________________________________________________________\n",
      "leaky_re_lu_6 (LeakyReLU)    (None, 1024)              0         \n",
      "_________________________________________________________________\n",
      "dropout (Dropout)            (None, 1024)              0         \n",
      "_________________________________________________________________\n",
      "dense_11 (Dense)             (None, 512)               524800    \n",
      "_________________________________________________________________\n",
      "leaky_re_lu_7 (LeakyReLU)    (None, 512)               0         \n",
      "_________________________________________________________________\n",
      "dropout_1 (Dropout)          (None, 512)               0         \n",
      "_________________________________________________________________\n",
      "dense_12 (Dense)             (None, 256)               131328    \n",
      "_________________________________________________________________\n",
      "leaky_re_lu_8 (LeakyReLU)    (None, 256)               0         \n",
      "_________________________________________________________________\n",
      "dropout_2 (Dropout)          (None, 256)               0         \n",
      "_________________________________________________________________\n",
      "dense_13 (Dense)             (None, 1)                 257       \n",
      "=================================================================\n",
      "Total params: 68,395,009\n",
      "Trainable params: 68,395,009\n",
      "Non-trainable params: 0\n",
      "_________________________________________________________________\n"
     ]
    },
    {
     "data": {
      "text/plain": [
       "<tf.Tensor 'dense_10_input:0' shape=(None, 66150) dtype=float32>"
      ]
     },
     "execution_count": 25,
     "metadata": {},
     "output_type": "execute_result"
    }
   ],
   "source": [
    "discriminator.summary()\n",
    "discriminator.input"
   ]
  },
  {
   "cell_type": "code",
   "execution_count": 26,
   "id": "c3fe0b5c",
   "metadata": {
    "id": "c3fe0b5c"
   },
   "outputs": [],
   "source": [
    "discriminator.compile(loss='binary_crossentropy', optimizer=adam)"
   ]
  },
  {
   "cell_type": "code",
   "execution_count": 33,
   "id": "429e732b",
   "metadata": {
    "id": "429e732b"
   },
   "outputs": [],
   "source": [
    "# discriminator는 학습을 하지 않도록 하며, Gan 모델에서는 generator만 학습하도록 합니다.\n",
    "discriminator.trainable = False\n",
    "gan_input = Input(shape=(NOISE_DIM,))\n",
    "x = generator(inputs=gan_input)\n",
    "output = discriminator(x)"
   ]
  },
  {
   "cell_type": "code",
   "execution_count": 34,
   "id": "287b2f01",
   "metadata": {
    "colab": {
     "base_uri": "https://localhost:8080/"
    },
    "executionInfo": {
     "elapsed": 565,
     "status": "ok",
     "timestamp": 1620977913671,
     "user": {
      "displayName": "유일권",
      "photoUrl": "https://lh6.googleusercontent.com/-m9x9S5EGeIA/AAAAAAAAAAI/AAAAAAAAABs/NAaD8AOG0Qw/s64/photo.jpg",
      "userId": "05737179628675053908"
     },
     "user_tz": -540
    },
    "id": "287b2f01",
    "outputId": "74c544fd-52e4-42cf-ef50-a81b87b6aca7"
   },
   "outputs": [
    {
     "name": "stdout",
     "output_type": "stream",
     "text": [
      "Model: \"functional_1\"\n",
      "_________________________________________________________________\n",
      "Layer (type)                 Output Shape              Param #   \n",
      "=================================================================\n",
      "input_2 (InputLayer)         [(None, 10)]              0         \n",
      "_________________________________________________________________\n",
      "sequential_4 (Sequential)    (None, 66150)             546175078 \n",
      "_________________________________________________________________\n",
      "sequential_3 (Sequential)    (None, 1)                 68395009  \n",
      "=================================================================\n",
      "Total params: 614,570,087\n",
      "Trainable params: 546,175,078\n",
      "Non-trainable params: 68,395,009\n",
      "_________________________________________________________________\n"
     ]
    }
   ],
   "source": [
    "gan = Model(gan_input, output)\n",
    "gan.summary()"
   ]
  },
  {
   "cell_type": "code",
   "execution_count": 35,
   "id": "3dce7ef7",
   "metadata": {
    "id": "3dce7ef7"
   },
   "outputs": [],
   "source": [
    "gan.compile(loss='binary_crossentropy', optimizer=adam)"
   ]
  },
  {
   "cell_type": "code",
   "execution_count": 36,
   "id": "c4b990ca",
   "metadata": {
    "id": "c4b990ca"
   },
   "outputs": [],
   "source": [
    "def visualize_training(epoch, d_losses, g_losses):\n",
    "    # 오차에 대한 시각화\n",
    "    plt.figure(figsize=(8, 4))\n",
    "    plt.plot(d_losses, label='Discriminator Loss')\n",
    "    plt.plot(g_losses, label='Generatror Loss')\n",
    "    plt.xlabel('Epoch')\n",
    "    plt.ylabel('Loss')\n",
    "    plt.legend()\n",
    "    plt.show()\n",
    "\n",
    "    print('epoch: {}, Discriminator Loss: {}, Generator Loss: {}'.format(epoch, np.asarray(d_losses).mean(), np.asarray(g_losses).mean()))\n",
    "    #오디오 파일 듣기 추가 요망\n",
    "    "
   ]
  },
  {
   "cell_type": "code",
   "execution_count": 37,
   "id": "212dc7ab",
   "metadata": {
    "id": "212dc7ab"
   },
   "outputs": [],
   "source": [
    "BATCH_SIZE = 20\n",
    "EPOCHS= 20"
   ]
  },
  {
   "cell_type": "code",
   "execution_count": 39,
   "id": "f5a83f7a",
   "metadata": {
    "id": "f5a83f7a"
   },
   "outputs": [
    {
     "data": {
      "image/png": "[encoded data removed]",
      "text/plain": [
       "<Figure size 576x288 with 1 Axes>"
      ]
     },
     "metadata": {
      "needs_background": "light"
     },
     "output_type": "display_data"
    },
    {
     "name": "stdout",
     "output_type": "stream",
     "text": [
      "epoch: 20, Discriminator Loss: 1.74289031624794, Generator Loss: 1.2576073035597801\n"
     ]
    }
   ],
   "source": [
    "# discriminator와 gan 모델의 loss 측정을 위한 list 입니다.\n",
    "d_losses = []\n",
    "g_losses = []\n",
    "gen_rst = []\n",
    "\n",
    "for epoch in range(1, EPOCHS + 1):\n",
    "    # 각 배치별 학습\n",
    "    input_noise = np.random.uniform(-1, 1, size=[BATCH_SIZE, NOISE_DIM])\n",
    "    \n",
    "    # 가짜 이미지 데이터 생성\n",
    "    generated_sounds = generator.predict(input_noise)\n",
    "    \n",
    "    # Gan에 학습할 X 데이터 정의\n",
    "    x_dis = np.concatenate([sound_data, generated_sounds])\n",
    "    \n",
    "    # Gan에 학습할 Y 데이터 정의\n",
    "    y_dis = np.zeros(2 * BATCH_SIZE)\n",
    "    y_dis[:BATCH_SIZE] = 0.9\n",
    "    \n",
    "    # Discriminator 훈련\n",
    "    discriminator.trainable = True\n",
    "    d_loss = discriminator.train_on_batch(x_dis, y_dis)\n",
    "    \n",
    "    # Gan 훈련\n",
    "    noise = np.random.uniform(-1, 1, size=[BATCH_SIZE, NOISE_DIM])\n",
    "    y_gan = np.ones(BATCH_SIZE)\n",
    "    \n",
    "    # Discriminator의 판별 학습을 방지합니다\n",
    "    discriminator.trainable = False\n",
    "    g_loss = gan.train_on_batch(noise, y_gan)\n",
    "        \n",
    "    d_losses.append(d_loss)\n",
    "    g_losses.append(g_loss)\n",
    "    gen_rst=np.array(generated_sounds)\n",
    "    \n",
    "    if(epoch==EPOCHS):\n",
    "        visualize_training(epoch, d_losses, g_losses)\n"
   ]
  },
  {
   "cell_type": "code",
   "execution_count": 40,
   "id": "4ae435d5",
   "metadata": {
    "colab": {
     "base_uri": "https://localhost:8080/"
    },
    "executionInfo": {
     "elapsed": 460,
     "status": "ok",
     "timestamp": 1620977650838,
     "user": {
      "displayName": "유일권",
      "photoUrl": "https://lh6.googleusercontent.com/-m9x9S5EGeIA/AAAAAAAAAAI/AAAAAAAAABs/NAaD8AOG0Qw/s64/photo.jpg",
      "userId": "05737179628675053908"
     },
     "user_tz": -540
    },
    "id": "4ae435d5",
    "outputId": "df0b33ef-0cd3-4375-877a-ece4c738e1f5"
   },
   "outputs": [
    {
     "data": {
      "text/plain": [
       "(20, 66150)"
      ]
     },
     "execution_count": 40,
     "metadata": {},
     "output_type": "execute_result"
    }
   ],
   "source": [
    "gen_rst.shape"
   ]
  },
  {
   "cell_type": "code",
   "execution_count": 42,
   "id": "e7beb824",
   "metadata": {
    "colab": {
     "base_uri": "https://localhost:8080/",
     "height": 296
    },
    "executionInfo": {
     "elapsed": 1259,
     "status": "ok",
     "timestamp": 1620978109317,
     "user": {
      "displayName": "유일권",
      "photoUrl": "https://lh6.googleusercontent.com/-m9x9S5EGeIA/AAAAAAAAAAI/AAAAAAAAABs/NAaD8AOG0Qw/s64/photo.jpg",
      "userId": "05737179628675053908"
     },
     "user_tz": -540
    },
    "id": "e7beb824",
    "outputId": "208bbdb9-becc-40a9-d0b5-277ff4e3cbb7"
   },
   "outputs": [
    {
     "data": {
      "text/plain": [
       "<matplotlib.collections.PolyCollection at 0x1696e90b670>"
      ]
     },
     "execution_count": 42,
     "metadata": {},
     "output_type": "execute_result"
    },
    {
     "data": {
      "image/png": "[encoded data removed]",
      "text/plain": [
       "<Figure size 432x288 with 1 Axes>"
      ]
     },
     "metadata": {
      "needs_background": "light"
     },
     "output_type": "display_data"
    }
   ],
   "source": [
    "librosa.display.waveplot(gen_rst[19])"
   ]
  },
  {
   "cell_type": "code",
   "execution_count": null,
   "id": "d83407a9",
   "metadata": {
    "id": "d83407a9"
   },
   "outputs": [],
   "source": [
    "import soundfile as sf\n",
    "sf.write('./output1.wav', test, sr, subtype='PCM_24')"
   ]
  },
  {
   "cell_type": "code",
   "execution_count": null,
   "id": "36fe44cd",
   "metadata": {
    "id": "36fe44cd"
   },
   "outputs": [],
   "source": [
    "#magnitude = np.abs(y)\n",
    "log_spectrogram = librosa.amplitude_to_db(gen_rst[19].T)\n",
    "\n",
    "plt.figure(figsize=(10,4))\n",
    "librosa.display.specshow(log_spectrogram, sr=22500, hop_length=128)\n",
    "plt.xlabel(\"Time\")\n",
    "plt.ylabel(\"Frequency\")\n",
    "plt.colorbar(format='%+2.0f dB')\n",
    "plt.title(\"Spectrogram (dB)\")"
   ]
  }
 ],
 "metadata": {
  "colab": {
   "name": "noise(s_tft).ipynb",
   "provenance": []
  },
  "kernelspec": {
   "display_name": "tensorflow",
   "language": "python",
   "name": "tensorflow"
  },
  "language_info": {
   "codemirror_mode": {
    "name": "ipython",
    "version": 3
   },
   "file_extension": ".py",
   "mimetype": "text/x-python",
   "name": "python",
   "nbconvert_exporter": "python",
   "pygments_lexer": "ipython3",
   "version": "3.8.8"
  }
 },
 "nbformat": 4,
 "nbformat_minor": 5
}
