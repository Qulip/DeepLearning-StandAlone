{
 "cells": [
  {
   "cell_type": "code",
   "execution_count": 26,
   "id": "ed4ef575",
   "metadata": {},
   "outputs": [],
   "source": [
    "from tensorflow.keras.layers import Dense, LeakyReLU, Dropout, Input, Reshape, GRU\n",
    "from tensorflow.keras.models import Sequential, Model\n",
    "from tensorflow.keras.optimizers import Adam\n",
    "from tensorflow.keras.initializers import RandomNormal\n",
    "#import tensorflow as tf\n",
    "import numpy as np\n",
    "import matplotlib.pyplot as plt\n",
    "import os\n",
    "import librosa\n",
    "import pandas as pd\n",
    "\n",
    "sr = 44100\n",
    "\n",
    "# gan에 입력되는 noise에 대한 dimension\n",
    "NOISE_DIM = 10 #잘 모르겠음...ㅎㅎ\n",
    "\n",
    "# adam optimizer 정의, learning_rate = 0.0002, beta_1로 줍니다.\n",
    "# Vanilla Gan과 DCGAN에서 이렇게 셋팅을 해주는데\n",
    "# 이렇게 해줘야 훨씬 학습을 잘합니다.\n",
    "# 그렇다고 합니다..ㅎㅎ\n",
    "adam = Adam(lr=0.0002, beta_1=0.5)\n",
    "mfcc_data = []"
   ]
  },
  {
   "cell_type": "code",
   "execution_count": 7,
   "id": "f40460e3",
   "metadata": {},
   "outputs": [
    {
     "name": "stdout",
     "output_type": "stream",
     "text": [
      "Foldername : 1 - 20 files\n",
      "Filename : Ryu20.wav\n",
      "Stft Size :  (1723, 65)\n",
      "Filename : Ryu8.wav\n",
      "Stft Size :  (1723, 65)\n",
      "Filename : Ryu9.wav\n",
      "Stft Size :  (1723, 65)\n",
      "Filename : Ryu19.wav\n",
      "Stft Size :  (1723, 65)\n",
      "Filename : Ryu18.wav\n",
      "Stft Size :  (1723, 65)\n",
      "Filename : Ryu16.wav\n",
      "Stft Size :  (1723, 65)\n",
      "Filename : Ryu2.wav\n",
      "Stft Size :  (1723, 65)\n",
      "Filename : Ryu3.wav\n",
      "Stft Size :  (1723, 65)\n",
      "Filename : Ryu17.wav\n",
      "Stft Size :  (1723, 65)\n",
      "Filename : Ryu15.wav\n",
      "Stft Size :  (1723, 65)\n",
      "Filename : Ryu1.wav\n",
      "Stft Size :  (1723, 65)\n",
      "Filename : Ryu14.wav\n",
      "Stft Size :  (1723, 65)\n",
      "Filename : Ryu10.wav\n",
      "Stft Size :  (1723, 65)\n",
      "Filename : Ryu4.wav\n",
      "Stft Size :  (1723, 65)\n",
      "Filename : Ryu5.wav\n",
      "Stft Size :  (1723, 65)\n",
      "Filename : Ryu11.wav\n",
      "Stft Size :  (1723, 65)\n",
      "Filename : Ryu13.wav\n",
      "Stft Size :  (1723, 65)\n",
      "Filename : Ryu7.wav\n",
      "Stft Size :  (1723, 65)\n",
      "Filename : Ryu6.wav\n",
      "Stft Size :  (1723, 65)\n",
      "Filename : Ryu12.wav\n",
      "Stft Size :  (1723, 65)\n"
     ]
    },
    {
     "data": {
      "text/plain": [
       "(20, 1723, 65)"
      ]
     },
     "execution_count": 7,
     "metadata": {},
     "output_type": "execute_result"
    }
   ],
   "source": [
    "def load_wave_generator(path): #이전 깃헙에서 가져온 파일 읽어들이는 함수(라벨 붙이는것만 삭제)\n",
    "\n",
    "    batch_waves = []\n",
    "    stft_data = []\n",
    "    temp = []\n",
    "    global s_data\n",
    "\n",
    "    folders = os.listdir(path)\n",
    "\n",
    "    for folder in folders:\n",
    "        if not os.path.isdir(path):continue #폴더가 아니면 continue\n",
    "        files = os.listdir(path+\"/\"+folder)\n",
    "        print(\"Foldername :\",folder,\"-\",len(files),\"files\")\n",
    "        #폴더 이름과 그 폴더에 속하는 파일 갯수 출력\n",
    "        for wav in files:\n",
    "            if not wav.endswith(\".wav\"):continue\n",
    "            else:\n",
    "                #print(\"Filename :\",wav)#.wav 파일이 아니면 continue\n",
    "                y, sr = librosa.load(path+\"/\"+folder+\"/\"+wav)\n",
    "                ny = y[:sr*5]\n",
    "                stft = librosa.stft(ny, n_fft=128, hop_length=64, win_length=128).T\n",
    "                stft = np.abs(stft)\n",
    "                \n",
    "                stft_data.append(stft)\n",
    "                #print(\"Stft Size : \", stft.shape)\n",
    "                \n",
    "    #end loop\n",
    "    #print(\"X_data :\",np.shape(X_data))\n",
    "    s_data = stft_data\n",
    "    \n",
    "\n",
    "load_wave_generator(\"./data\")    #일단 RYU 음성 읽어오기\n",
    "stft_data = np.array(s_data)\n",
    "#print(np.shape(sound_data))\n",
    "stft_data.shape"
   ]
  },
  {
   "cell_type": "code",
   "execution_count": 15,
   "id": "afa1659f",
   "metadata": {},
   "outputs": [
    {
     "data": {
      "text/plain": [
       "array([0., 0., 0., 0., 0., 0., 0., 0., 0., 0., 0., 0., 0., 0., 0., 0., 0.,\n",
       "       0., 0., 0., 0., 0., 0., 0., 0., 0., 0., 0., 0., 0., 0., 0., 0., 0.,\n",
       "       0., 0., 0., 0., 0., 0., 0., 0., 0., 0., 0., 0., 0., 0., 0., 0., 0.,\n",
       "       0., 0., 0., 0., 0., 0., 0., 0., 0., 0., 0., 0., 0., 0.],\n",
       "      dtype=float32)"
      ]
     },
     "execution_count": 15,
     "metadata": {},
     "output_type": "execute_result"
    }
   ],
   "source": [
    "stft_data[0][100]"
   ]
  },
  {
   "cell_type": "code",
   "execution_count": 24,
   "id": "abda7509",
   "metadata": {},
   "outputs": [],
   "source": [
    "\"\"\"\n",
    "generator = Sequential([                 #generator 시퀀스 생성 \n",
    "    Dense(256, input_dim=NOISE_DIM), \n",
    "    LeakyReLU(0.2), \n",
    "    Dense(512), \n",
    "    LeakyReLU(0.2), \n",
    "    Dense(1024), \n",
    "    LeakyReLU(0.2), \n",
    "    Dense(1025, activation='tanh'),\n",
    "])\n",
    "\"\"\"\n",
    "generator = Sequential()\n",
    "generator.add(Dense(512, input_dim=NOISE_DIM, activation='relu'))\n",
    "generator.add(Dense(1024, activation='relu'))\n",
    "generator.add(Dense(2048, activation='relu'))\n",
    "generator.add(Dense(4096, activation='relu'))\n",
    "generator.add(Dense(8192, activation='relu'))\n",
    "generator.add(Dense(11995, activation='tanh'))\n",
    "generator.add(Reshape((1723,65), input_shape=(11995,)))"
   ]
  },
  {
   "cell_type": "code",
   "execution_count": 25,
   "id": "3213dce9",
   "metadata": {},
   "outputs": [
    {
     "name": "stdout",
     "output_type": "stream",
     "text": [
      "Model: \"sequential_3\"\n",
      "_________________________________________________________________\n",
      "Layer (type)                 Output Shape              Param #   \n",
      "=================================================================\n",
      "dense_10 (Dense)             (None, 512)               5632      \n",
      "_________________________________________________________________\n",
      "dense_11 (Dense)             (None, 1024)              525312    \n",
      "_________________________________________________________________\n",
      "dense_12 (Dense)             (None, 2048)              2099200   \n",
      "_________________________________________________________________\n",
      "dense_13 (Dense)             (None, 4096)              8392704   \n",
      "_________________________________________________________________\n",
      "dense_14 (Dense)             (None, 8192)              33562624  \n",
      "_________________________________________________________________\n",
      "dense_15 (Dense)             (None, 11995)             98275035  \n",
      "_________________________________________________________________\n",
      "reshape (Reshape)            (None, 1723, 65)          0         \n",
      "=================================================================\n",
      "Total params: 142,860,507\n",
      "Trainable params: 142,860,507\n",
      "Non-trainable params: 0\n",
      "_________________________________________________________________\n"
     ]
    }
   ],
   "source": [
    "generator.summary()"
   ]
  },
  {
   "cell_type": "code",
   "execution_count": 36,
   "id": "b28884e7",
   "metadata": {},
   "outputs": [],
   "source": [
    "\"\"\"\n",
    "discriminator = Sequential([\n",
    "    Dense(1024, input_shape=(1723,65), kernel_initializer=RandomNormal(stddev=0.02)),\n",
    "    LeakyReLU(0.2), #relu의 개선버전\n",
    "    Dropout(0.3), \n",
    "    Dense(512),\n",
    "    LeakyReLU(0.2), \n",
    "    Dropout(0.3), \n",
    "    Dense(256),\n",
    "    LeakyReLU(0.2), \n",
    "    Dropout(0.3), \n",
    "    Dense(1, activation='sigmoid')\n",
    "])\n",
    "\"\"\"\n",
    "discriminator = Sequential()\n",
    "discriminator.add(GRU(128, input_shape=(1723,65)))\n",
    "discriminator.add(Dense(64, activation='relu'))\n",
    "discriminator.add(Dense(32, activation='relu'))\n",
    "discriminator.add(Dense(1, activation='sigmoid'))"
   ]
  },
  {
   "cell_type": "code",
   "execution_count": 37,
   "id": "5102a073",
   "metadata": {},
   "outputs": [
    {
     "name": "stdout",
     "output_type": "stream",
     "text": [
      "Model: \"sequential_7\"\n",
      "_________________________________________________________________\n",
      "Layer (type)                 Output Shape              Param #   \n",
      "=================================================================\n",
      "gru_3 (GRU)                  (None, 128)               74880     \n",
      "_________________________________________________________________\n",
      "dense_22 (Dense)             (None, 64)                8256      \n",
      "_________________________________________________________________\n",
      "dense_23 (Dense)             (None, 32)                2080      \n",
      "_________________________________________________________________\n",
      "dense_24 (Dense)             (None, 1)                 33        \n",
      "=================================================================\n",
      "Total params: 85,249\n",
      "Trainable params: 85,249\n",
      "Non-trainable params: 0\n",
      "_________________________________________________________________\n"
     ]
    },
    {
     "data": {
      "text/plain": [
       "<tf.Tensor 'gru_3_input:0' shape=(None, 1723, 65) dtype=float32>"
      ]
     },
     "execution_count": 37,
     "metadata": {},
     "output_type": "execute_result"
    }
   ],
   "source": [
    "discriminator.summary()\n",
    "discriminator.input"
   ]
  },
  {
   "cell_type": "code",
   "execution_count": 38,
   "id": "c3fe0b5c",
   "metadata": {},
   "outputs": [],
   "source": [
    "discriminator.compile(loss='binary_crossentropy', optimizer=adam)"
   ]
  },
  {
   "cell_type": "code",
   "execution_count": 39,
   "id": "429e732b",
   "metadata": {},
   "outputs": [],
   "source": [
    "# discriminator는 학습을 하지 않도록 하며, Gan 모델에서는 generator만 학습하도록 합니다.\n",
    "discriminator.trainable = False\n",
    "gan_input = Input(shape=(NOISE_DIM,))\n",
    "x = generator(inputs=gan_input)\n",
    "output = discriminator(x)"
   ]
  },
  {
   "cell_type": "code",
   "execution_count": 40,
   "id": "287b2f01",
   "metadata": {},
   "outputs": [
    {
     "name": "stdout",
     "output_type": "stream",
     "text": [
      "Model: \"model\"\n",
      "_________________________________________________________________\n",
      "Layer (type)                 Output Shape              Param #   \n",
      "=================================================================\n",
      "input_3 (InputLayer)         [(None, 10)]              0         \n",
      "_________________________________________________________________\n",
      "sequential_3 (Sequential)    (None, 1723, 65)          142860507 \n",
      "_________________________________________________________________\n",
      "sequential_7 (Sequential)    (None, 1)                 85249     \n",
      "=================================================================\n",
      "Total params: 142,945,756\n",
      "Trainable params: 142,860,507\n",
      "Non-trainable params: 85,249\n",
      "_________________________________________________________________\n"
     ]
    }
   ],
   "source": [
    "gan = Model(gan_input, output)\n",
    "gan.summary()"
   ]
  },
  {
   "cell_type": "code",
   "execution_count": 41,
   "id": "3dce7ef7",
   "metadata": {},
   "outputs": [],
   "source": [
    "gan.compile(loss='binary_crossentropy', optimizer=adam)"
   ]
  },
  {
   "cell_type": "code",
   "execution_count": 50,
   "id": "c4b990ca",
   "metadata": {},
   "outputs": [],
   "source": [
    "def visualize_training(epoch, d_losses, g_losses):\n",
    "    # 오차에 대한 시각화\n",
    "    plt.figure(figsize=(8, 4))\n",
    "    plt.plot(d_losses, label='Discriminator Loss')\n",
    "    plt.plot(g_losses, label='Generatror Loss')\n",
    "    plt.xlabel('Epoch')\n",
    "    plt.ylabel('Loss')\n",
    "    plt.legend()\n",
    "    plt.show()\n",
    "\n",
    "    print('epoch: {}, Discriminator Loss: {}, Generator Loss: {}'.format(epoch, np.asarray(d_losses).mean(), np.asarray(g_losses).mean()))\n",
    "    #오디오 파일 듣기 추가 요망\n",
    "    "
   ]
  },
  {
   "cell_type": "code",
   "execution_count": 44,
   "id": "cc681491",
   "metadata": {},
   "outputs": [],
   "source": [
    "def get_batches(data, batch_size):\n",
    "    batches = []\n",
    "    for i in range(int(data.shape[0] // batch_size)):\n",
    "        batch = data[i * batch_size: (i + 1) * batch_size]\n",
    "        batches.append(batch)\n",
    "    return np.asarray(batches)"
   ]
  },
  {
   "cell_type": "code",
   "execution_count": 55,
   "id": "212dc7ab",
   "metadata": {},
   "outputs": [],
   "source": [
    "BATCH_SIZE = 32\n",
    "EPOCHS= 10\n",
    "for real_sonnds in get_batches(stft_data, BATCH_SIZE):\n",
    "    print(\"ing\")"
   ]
  },
  {
   "cell_type": "code",
   "execution_count": 53,
   "id": "f5a83f7a",
   "metadata": {},
   "outputs": [
    {
     "ename": "NameError",
     "evalue": "name 'd_loss' is not defined",
     "output_type": "error",
     "traceback": [
      "\u001b[0;31m---------------------------------------------------------------------------\u001b[0m",
      "\u001b[0;31mNameError\u001b[0m                                 Traceback (most recent call last)",
      "\u001b[0;32m<ipython-input-53-66af223c7c6e>\u001b[0m in \u001b[0;36m<module>\u001b[0;34m\u001b[0m\n\u001b[1;32m     33\u001b[0m         \u001b[0mg_loss\u001b[0m \u001b[0;34m=\u001b[0m \u001b[0mgan\u001b[0m\u001b[0;34m.\u001b[0m\u001b[0mtrain_on_batch\u001b[0m\u001b[0;34m(\u001b[0m\u001b[0mnoise\u001b[0m\u001b[0;34m,\u001b[0m \u001b[0my_gan\u001b[0m\u001b[0;34m)\u001b[0m\u001b[0;34m\u001b[0m\u001b[0;34m\u001b[0m\u001b[0m\n\u001b[1;32m     34\u001b[0m \u001b[0;34m\u001b[0m\u001b[0m\n\u001b[0;32m---> 35\u001b[0;31m     \u001b[0md_losses\u001b[0m\u001b[0;34m.\u001b[0m\u001b[0mappend\u001b[0m\u001b[0;34m(\u001b[0m\u001b[0md_loss\u001b[0m\u001b[0;34m)\u001b[0m\u001b[0;34m\u001b[0m\u001b[0;34m\u001b[0m\u001b[0m\n\u001b[0m\u001b[1;32m     36\u001b[0m     \u001b[0mg_losses\u001b[0m\u001b[0;34m.\u001b[0m\u001b[0mappend\u001b[0m\u001b[0;34m(\u001b[0m\u001b[0mg_loss\u001b[0m\u001b[0;34m)\u001b[0m\u001b[0;34m\u001b[0m\u001b[0;34m\u001b[0m\u001b[0m\n\u001b[1;32m     37\u001b[0m \u001b[0;34m\u001b[0m\u001b[0m\n",
      "\u001b[0;31mNameError\u001b[0m: name 'd_loss' is not defined"
     ]
    }
   ],
   "source": [
    "# discriminator와 gan 모델의 loss 측정을 위한 list 입니다.\n",
    "d_losses = []\n",
    "g_losses = []\n",
    "gen_rst = []\n",
    "\n",
    "for epoch in range(1, EPOCHS + 1):\n",
    "    # 각 배치별 학습\n",
    "    for real_sounds in get_batches(stft_data, BATCH_SIZE):\n",
    "        \n",
    "        # 랜덤 노이즈 생성\n",
    "        input_noise = np.random.uniform(-1, 1, size=[BATCH_SIZE, NOISE_DIM])\n",
    "        \n",
    "        # 가짜 이미지 데이터 생성\n",
    "        generated_sounds = generator.predict(input_noise)\n",
    "        \n",
    "        # Gan에 학습할 X 데이터 정의\n",
    "        x_dis = np.concatenate([real_sounds, generated_sounds])\n",
    "        \n",
    "        # Gan에 학습할 Y 데이터 정의\n",
    "        y_dis = np.zeros(2 * BATCH_SIZE)\n",
    "        y_dis[:BATCH_SIZE] = 0.9\n",
    "        \n",
    "        # Discriminator 훈련\n",
    "        discriminator.trainable = True\n",
    "        d_loss = discriminator.train_on_batch(x_dis, y_dis)\n",
    "        \n",
    "        # Gan 훈련\n",
    "        noise = np.random.uniform(-1, 1, size=[BATCH_SIZE, NOISE_DIM])\n",
    "        y_gan = np.ones(BATCH_SIZE)\n",
    "        \n",
    "        # Discriminator의 판별 학습을 방지합니다\n",
    "        discriminator.trainable = False\n",
    "        g_loss = gan.train_on_batch(noise, y_gan)\n",
    "        \n",
    "    d_losses.append(d_loss)\n",
    "    g_losses.append(g_loss)\n",
    "    \n",
    "    if(epoch==50):\n",
    "        gen_rst=np.array(generated_sounds)\n",
    "    \n",
    "    #gen_rst.append(librosa.feature.inverse.mfcc_to_audio())\n",
    "    \n",
    "    if epoch == 1 or epoch % 5 == 0:\n",
    "        visualize_training(epoch, d_losses, g_losses)\n",
    "        \n"
   ]
  },
  {
   "cell_type": "code",
   "execution_count": 49,
   "id": "3a5d180b",
   "metadata": {},
   "outputs": [
    {
     "name": "stdout",
     "output_type": "stream",
     "text": [
      "-0.99900764\n"
     ]
    },
    {
     "data": {
      "text/plain": [
       "(128, 45, 500)"
      ]
     },
     "execution_count": 49,
     "metadata": {},
     "output_type": "execute_result"
    }
   ],
   "source": [
    "gen_mfcc = []\n",
    "gen_rst = np.array(gen_rst)\n",
    "print(gen_rst[0][0])\n",
    "gen_rst = gen_rst.reshape(128,500,45)\n",
    "for i in range(128):\n",
    "    gen_mfcc.append(gen_rst[i].T)\n",
    "gen_mfcc = np.array(gen_mfcc)\n",
    "gen_mfcc.shape"
   ]
  },
  {
   "cell_type": "code",
   "execution_count": 50,
   "id": "acb53a40",
   "metadata": {},
   "outputs": [
    {
     "data": {
      "text/plain": [
       "(255488,)"
      ]
     },
     "execution_count": 50,
     "metadata": {},
     "output_type": "execute_result"
    }
   ],
   "source": [
    "test = librosa.feature.inverse.mfcc_to_audio(gen_mfcc[127])\n",
    "test.shape"
   ]
  },
  {
   "cell_type": "code",
   "execution_count": 16,
   "id": "858ed7f4",
   "metadata": {},
   "outputs": [
    {
     "data": {
      "text/plain": [
       "<matplotlib.collections.PolyCollection at 0x2394010bee0>"
      ]
     },
     "execution_count": 16,
     "metadata": {},
     "output_type": "execute_result"
    },
    {
     "data": {
      "image/png": "[encoded data removed]",
      "text/plain": [
       "<Figure size 432x288 with 1 Axes>"
      ]
     },
     "metadata": {
      "needs_background": "light"
     },
     "output_type": "display_data"
    }
   ],
   "source": [
    "import librosa.display\n",
    "librosa.display.waveplot(test, sr=sr, color='r')"
   ]
  },
  {
   "cell_type": "code",
   "execution_count": 26,
   "id": "b6caae76",
   "metadata": {},
   "outputs": [
    {
     "data": {
      "text/plain": [
       "<matplotlib.collections.PolyCollection at 0x239414e1a00>"
      ]
     },
     "execution_count": 26,
     "metadata": {},
     "output_type": "execute_result"
    },
    {
     "data": {
      "image/png": "[encoded data removed]",
      "text/plain": [
       "<Figure size 432x288 with 1 Axes>"
      ]
     },
     "metadata": {
      "needs_background": "light"
     },
     "output_type": "display_data"
    }
   ],
   "source": [
    "y, sr = librosa.load(\"./test.wav\")\n",
    "fft = np.fft.fft(y)\n",
    "#test = librosa.feature.inverse.mfcc_to_audio(mfcc_test)\n",
    "import soundfile as sf\n",
    "sf.write('output1.wav', test, sr, subtype='PCM_24')\n",
    "librosa.display.waveplot(y, sr=sr, color='b')"
   ]
  },
  {
   "cell_type": "code",
   "execution_count": 32,
   "id": "a2d790ab",
   "metadata": {},
   "outputs": [
    {
     "name": "stdout",
     "output_type": "stream",
     "text": [
      "(136704,)\n"
     ]
    },
    {
     "data": {
      "text/plain": [
       "Text(0.5, 1.0, 'Power spectrum')"
      ]
     },
     "execution_count": 32,
     "metadata": {},
     "output_type": "execute_result"
    },
    {
     "data": {
      "image/png": "[encoded data removed]",
      "text/plain": [
       "<Figure size 1080x720 with 1 Axes>"
      ]
     },
     "metadata": {
      "needs_background": "light"
     },
     "output_type": "display_data"
    }
   ],
   "source": [
    "magnitude = np.abs(fft)\n",
    "print(magnitude.shape)\n",
    "f = np.linspace(0, sr, len(magnitude))\n",
    "\n",
    "left_spectrum = magnitude[:int(len(magnitude)/2)]\n",
    "left_f = f[:int(len(magnitude)/2)]\n",
    "\n",
    "FIG_SIZE = (15,10)\n",
    "plt.figure(figsize=FIG_SIZE)\n",
    "plt.plot(f, magnitude)\n",
    "plt.xlabel(\"Frequency\")\n",
    "plt.ylabel(\"Magnitude\")\n",
    "plt.title(\"Power spectrum\")"
   ]
  }
 ],
 "metadata": {
  "kernelspec": {
   "display_name": "tf_newBuild",
   "language": "python",
   "name": "tf"
  },
  "language_info": {
   "codemirror_mode": {
    "name": "ipython",
    "version": 3
   },
   "file_extension": ".py",
   "mimetype": "text/x-python",
   "name": "python",
   "nbconvert_exporter": "python",
   "pygments_lexer": "ipython3",
   "version": "3.8.8"
  }
 },
 "nbformat": 4,
 "nbformat_minor": 5
}
