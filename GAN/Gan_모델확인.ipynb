{
 "cells": [
  {
   "cell_type": "code",
   "execution_count": 2,
   "metadata": {
    "colab": {
     "base_uri": "https://localhost:8080/"
    },
    "executionInfo": {
     "elapsed": 21597,
     "status": "ok",
     "timestamp": 1622793490364,
     "user": {
      "displayName": "유일권/전자전기공학과",
      "photoUrl": "",
      "userId": "12250116240004750872"
     },
     "user_tz": -540
    },
    "id": "EGsgcyQzBxU2",
    "outputId": "2709d505-6365-48f7-f221-e623fa191f32"
   },
   "outputs": [],
   "source": [
    "from tensorflow.keras.layers import Dense, LeakyReLU, Dropout, Input, Reshape, GRU\n",
    "from tensorflow.keras.models import Sequential, Model\n",
    "from tensorflow.keras.optimizers import Adam\n",
    "from tensorflow.keras.initializers import RandomNormal\n",
    "import numpy as np\n",
    "import matplotlib.pyplot as plt\n",
    "import os\n",
    "import librosa\n",
    "import pandas as pd\n",
    "import librosa.display\n",
    "import soundfile as sf\n",
    "from tensorflow.keras.models import load_model   #jupyter  notebook\n",
    "\n",
    "generator = load_model('GAN_v2.h5', compile = False)\n",
    "model = load_model('gru_4-26(100%).h5', compile = False)"
   ]
  },
  {
   "cell_type": "code",
   "execution_count": 3,
   "metadata": {
    "executionInfo": {
     "elapsed": 273,
     "status": "ok",
     "timestamp": 1622793656907,
     "user": {
      "displayName": "유일권/전자전기공학과",
      "photoUrl": "",
      "userId": "12250116240004750872"
     },
     "user_tz": -540
    },
    "id": "VmDKsPGZCKr8"
   },
   "outputs": [],
   "source": [
    "def test_voice(X_s, model):\n",
    "    test = X_s\n",
    "\n",
    "    y_pred = np.argmax(model.predict(test), axis=-1)\n",
    "    return who(y_pred)\n",
    "\n",
    "def who(y_pred):\n",
    "  aaa = 0\n",
    "  bbb = 0\n",
    "  ccc = 0\n",
    "  for i in range(0, len(y_pred)):\n",
    "    if(y_pred[i] == 0):\n",
    "      aaa = aaa + 1\n",
    "    elif(y_pred[i] == 1):\n",
    "      bbb = bbb + 1\n",
    "    else:\n",
    "      ccc = ccc + 1\n",
    "\n",
    "  result = [aaa,bbb,ccc]\n",
    "  return result.index(max(result)), result\n",
    "\n",
    "def model_predict_return(X_s, model):\n",
    "  # files = os.listdir(path)\n",
    "    result_index, result = test_voice(X_s, model)\n",
    "\n",
    "    if result_index == 0:\n",
    "      return \"최창준 목소리 입니다\"\n",
    "    elif result_index == 1:\n",
    "      return \"유일권 목소리 입니다\"\n",
    "    else:\n",
    "      return \"경재원 목소리 입니다\"\n",
    "\n",
    "def chk_predict(generated, epoch):\n",
    "    gen_mfcc = []\n",
    "    for i in range(len(generated)):\n",
    "        for j in range(5):\n",
    "            gen_mfcc.append(generated[i][j*100:j*100+100])\n",
    "\n",
    "    gen_mfcc = np.array(gen_mfcc)\n",
    "    print(\"Epoch : \",epoch,\" \", model_predict_return(gen_mfcc, model))"
   ]
  },
  {
   "cell_type": "code",
   "execution_count": 4,
   "metadata": {
    "colab": {
     "base_uri": "https://localhost:8080/"
    },
    "executionInfo": {
     "elapsed": 101237,
     "status": "ok",
     "timestamp": 1622793759721,
     "user": {
      "displayName": "유일권/전자전기공학과",
      "photoUrl": "",
      "userId": "12250116240004750872"
     },
     "user_tz": -540
    },
    "id": "8UkFEYrICheh",
    "outputId": "e5bbd1b0-3a71-4d06-ae40-fc1fdad7b9c2"
   },
   "outputs": [],
   "source": [
    "per = [0,0,0];\n",
    "\n",
    "def chk_GAN_rst(generated, model, epoch):\n",
    "    gen_mfcc = []\n",
    "    for i in range(len(generated)):\n",
    "        for j in range(5):\n",
    "            gen_mfcc.append(generated[i][j*100:j*100+100])\n",
    "\n",
    "    gen_mfcc = np.array(gen_mfcc)\n",
    "\n",
    "    result_index, result = test_voice(gen_mfcc, model)\n",
    "    per[result_index] = per[result_index]+1\n",
    "    \"\"\"\n",
    "    if result_index == 0:\n",
    "      rst =  \"최창준 목소리 입니다\"\n",
    "    elif result_index == 1:\n",
    "      rst =  \"유일권 목소리 입니다\"\n",
    "    else:\n",
    "      rst = \"경재원 목소리 입니다\"\n",
    "    print(\"Epoch : \",epoch,\" \", rst)\n",
    "    \"\"\""
   ]
  },
  {
   "cell_type": "code",
   "execution_count": null,
   "metadata": {},
   "outputs": [],
   "source": [
    "for i in range(1000):\n",
    "    input_noise = np.random.uniform(-1, 1, size=[1,10])\n",
    "    generated_sounds = generator.predict(input_noise)\n",
    "    chk_GAN_rst(generated_sounds, model, i)\n",
    "\n",
    "rst = per[1]/1000*100\n",
    "print(\"Gan Model Accuracy :\",rst,\"%\")"
   ]
  },
  {
   "cell_type": "code",
   "execution_count": null,
   "metadata": {},
   "outputs": [],
   "source": []
  }
 ],
 "metadata": {
  "colab": {
   "authorship_tag": "ABX9TyOAvhMXz4W8Kpjx+HACSF4y",
   "name": "Untitled0.ipynb",
   "provenance": []
  },
  "kernelspec": {
   "display_name": "Python 3",
   "language": "python",
   "name": "python3"
  },
  "language_info": {
   "codemirror_mode": {
    "name": "ipython",
    "version": 3
   },
   "file_extension": ".py",
   "mimetype": "text/x-python",
   "name": "python",
   "nbconvert_exporter": "python",
   "pygments_lexer": "ipython3",
   "version": "3.8.8"
  }
 },
 "nbformat": 4,
 "nbformat_minor": 1
}
