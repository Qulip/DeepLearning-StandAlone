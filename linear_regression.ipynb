{
 "cells": [
  {
   "cell_type": "code",
   "execution_count": 1,
   "id": "53efcad2",
   "metadata": {},
   "outputs": [
    {
     "name": "stdout",
     "output_type": "stream",
     "text": [
      "10\n",
      "10\n"
     ]
    }
   ],
   "source": [
    "X = list(range(10))\n",
    "Y = [1,1,2,4,5,7,8,9,9,10]\n",
    "print(len(X))\n",
    "print(len(Y))"
   ]
  },
  {
   "cell_type": "code",
   "execution_count": 2,
   "id": "6a56269d",
   "metadata": {},
   "outputs": [
    {
     "data": {
      "text/plain": [
       "<matplotlib.collections.PathCollection at 0x18a1c04cac0>"
      ]
     },
     "execution_count": 2,
     "metadata": {},
     "output_type": "execute_result"
    },
    {
     "data": {
      "image/png": "[encoded data removed]",
      "text/plain": [
       "<Figure size 432x288 with 1 Axes>"
      ]
     },
     "metadata": {
      "needs_background": "light"
     },
     "output_type": "display_data"
    }
   ],
   "source": [
    "import matplotlib.pyplot as plt\n",
    "\n",
    "plt.plot(X,Y)    #x,y의 그래프를 그리는 함수\n",
    "plt.scatter(X,Y) #그래프 말고 점만 나온다."
   ]
  },
  {
   "cell_type": "code",
   "execution_count": 3,
   "id": "12ae2a6d",
   "metadata": {},
   "outputs": [
    {
     "data": {
      "text/plain": [
       "222.2"
      ]
     },
     "execution_count": 3,
     "metadata": {},
     "output_type": "execute_result"
    }
   ],
   "source": [
    "class H():           #Hypothesis(가설)\n",
    "    \n",
    "    def __init__(self, w):      #생성자 w를 입력을 받아 w를 넣어준다. 메서드 맨앞에 파이썬은 self를 넣어야한다.\n",
    "        self.w = w\n",
    "        \n",
    "    def forward(self, x):       #H(x) = w*x \n",
    "        return self.w *x\n",
    "    \n",
    "    \n",
    "def cost(h,X,Y):\n",
    "    error = 0\n",
    "    for i in range(len(X)):\n",
    "        error += (h.forward(X[i]) - Y[i])** 2\n",
    "    error = error / len(X)\n",
    "    return error\n",
    "        \n",
    "h = H(4)\n",
    "cost(h,X,Y)"
   ]
  },
  {
   "cell_type": "code",
   "execution_count": 4,
   "id": "ea552da0",
   "metadata": {},
   "outputs": [
    {
     "data": {
      "text/plain": [
       "<matplotlib.collections.PathCollection at 0x18a1e1477f0>"
      ]
     },
     "execution_count": 4,
     "metadata": {},
     "output_type": "execute_result"
    },
    {
     "data": {
      "image/png": "[encoded data removed]",
      "text/plain": [
       "<Figure size 432x288 with 1 Axes>"
      ]
     },
     "metadata": {
      "needs_background": "light"
     },
     "output_type": "display_data"
    }
   ],
   "source": [
    "list_w = []\n",
    "list_c = []\n",
    "for i in range(-100, 100):\n",
    "    w = i * 0.1\n",
    "    h = H(w)\n",
    "    c = cost(h, X, Y)\n",
    "    list_w.append(w)\n",
    "    list_c.append(c)\n",
    "\n",
    "#plt.figure(figsize=(1,1)) #사이즈 1,1 설정\n",
    "plt.xlabel('w')\n",
    "plt.ylabel('cost')\n",
    "plt.scatter(list_w, list_c, s=0.1)\n"
   ]
  },
  {
   "cell_type": "code",
   "execution_count": 15,
   "id": "d22ef86b",
   "metadata": {},
   "outputs": [
    {
     "data": {
      "text/plain": [
       "<matplotlib.collections.PathCollection at 0x18a1f2026a0>"
      ]
     },
     "execution_count": 15,
     "metadata": {},
     "output_type": "execute_result"
    },
    {
     "data": {
      "image/png": "[encoded data removed]",
      "text/plain": [
       "<Figure size 432x288 with 1 Axes>"
      ]
     },
     "metadata": {
      "needs_background": "light"
     },
     "output_type": "display_data"
    }
   ],
   "source": [
    "def cal_grad(w, cost):\n",
    "    h = H(w)\n",
    "    cost1 = cost(h, X, Y)                 #cost1 w\n",
    "    eps = 0.00001\n",
    "    h = H(w+eps)\n",
    "    cost2 = cost(h, X, Y)                 #cost2 w + epsil\n",
    "    dcost = cost2-cost1\n",
    "    dw = eps\n",
    "    grad = dcost / dw                     #cost2-cost1 / epsil\n",
    "    return grad, (cost1+cost2)*0.5\n",
    "\n",
    "def cal_grad2(w, cost):\n",
    "    h = H(w)\n",
    "    grad = 0\n",
    "    for i in range(len(X)):\n",
    "        grad += 2 * (h.forward(X[i]) - Y[i]) * X[i]\n",
    "    grad = grad / len(X)\n",
    "    c = cost(h, X, Y)\n",
    "    return grad, c\n",
    "\n",
    "w1 = 1.4\n",
    "w2 = 1.4\n",
    "\n",
    "list_w1 = []\n",
    "list_w2 = []\n",
    "list_c1 = []\n",
    "list_c2 = []\n",
    "\n",
    "lr = 0.001      #코스트에 따라서 러닝메이트를 선정 너무 크면 오버슈팅\n",
    "for i in range(100):\n",
    "    grad, mean_cost = cal_grad(w1,  cost)\n",
    "    grad2, mean_cost2 = cal_grad2(w2, cost)\n",
    "    \n",
    "    w1 -= lr * grad      #gradient descent 구함\n",
    "    w2 -= lr * grad2\n",
    "    list_w1.append(w1)\n",
    "    list_w2.append(w2)\n",
    "    list_c1.append(mean_cost)\n",
    "    list_c2.append(mean_cost2)\n",
    "    #print(w1, mean_cost, w2, mean_cost2)\n",
    "    \n",
    "plt.scatter(list_w1, list_c1)\n",
    "plt.scatter(list_w2, list_c2)"
   ]
  },
  {
   "cell_type": "code",
   "execution_count": null,
   "id": "816e8c8e",
   "metadata": {},
   "outputs": [],
   "source": []
  }
 ],
 "metadata": {
  "kernelspec": {
   "display_name": "tensorflow",
   "language": "python",
   "name": "tensorflow"
  },
  "language_info": {
   "codemirror_mode": {
    "name": "ipython",
    "version": 3
   },
   "file_extension": ".py",
   "mimetype": "text/x-python",
   "name": "python",
   "nbconvert_exporter": "python",
   "pygments_lexer": "ipython3",
   "version": "3.8.8"
  }
 },
 "nbformat": 4,
 "nbformat_minor": 5
}
