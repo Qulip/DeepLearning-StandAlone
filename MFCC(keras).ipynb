{
 "cells": [
  {
   "cell_type": "code",
   "execution_count": 41,
   "metadata": {
    "scrolled": false
   },
   "outputs": [
    {
     "name": "stdout",
     "output_type": "stream",
     "text": [
      "Start FIle Reading\n",
      "Foldername : 0 - 20 files\n",
      "Foldername : 1 - 20 files\n",
      "Foldername : 2 - 20 files\n",
      "Foldername : 3 - 20 files\n",
      "Foldername : 4 - 20 files\n",
      "Foldername : 5 - 20 files\n",
      "Foldername : 6 - 20 files\n",
      "Foldername : 7 - 20 files\n",
      "X_data : (94610, 50)\n",
      "Y_label : (94610, 8)\n",
      "8  classes!!\n",
      "X_train : (70957, 50)\n",
      "Y_train : (70957, 8)\n",
      "X_test : (23653, 50)\n",
      "Y_test : (23653, 8)\n"
     ]
    }
   ],
   "source": [
    "#######################Tensorflow 코드 시작부분\n",
    "import librosa\n",
    "import pyaudio #마이크를 사용하기 위한 라이브러리\n",
    "import wave\n",
    "import matplotlib.pyplot as plt\n",
    "import numpy as np\n",
    "import pandas as pd\n",
    "import tensorflow as tf\n",
    "from tensorflow.keras import layers, Model\n",
    "from sklearn.model_selection import train_test_split\n",
    "import os\n",
    "\n",
    "##### 변수 설정 부분 #####\n",
    "FORMAT = pyaudio.paInt16\n",
    "CHANNELS = 1\n",
    "RATE = 44100 #비트레이트 설정\n",
    "CHUNK = int(RATE / 10) # 버퍼 사이즈 1초당 44100비트레이트 이므로 100ms단위\n",
    "RECORD_SECONDS = 5 #녹음할 시간 설정\n",
    "WAVE_OUTPUT_FILENAME = \"output.wav\"\n",
    "DATA_PATH = \"./data/\"\n",
    "X_train = []#train_data 저장할 공간\n",
    "X_test = []\n",
    "Y_train = []\n",
    "Y_test = []\n",
    "tf_classes = 0\n",
    "\n",
    "def load_wave_generator(path):\n",
    "\n",
    "    batch_waves = []\n",
    "    labels = []\n",
    "    X_data = []\n",
    "    Y_label = []\n",
    "    global X_train, X_test, Y_train, Y_test, tf_classes\n",
    "\n",
    "    folders = os.listdir(path)\n",
    "\n",
    "    for folder in folders:\n",
    "        if not os.path.isdir(path):continue #폴더가 아니면 continue\n",
    "        files = os.listdir(path+\"/\"+folder)\n",
    "        print(\"Foldername :\",folder,\"-\",len(files),\"files\")\n",
    "        #폴더 이름과 그 폴더에 속하는 파일 갯수 출력\n",
    "        for wav in files:\n",
    "            if not wav.endswith(\".wav\"):continue\n",
    "            else:\n",
    "                #print(\"Filename :\",wav)#.wav 파일이 아니면 continue\n",
    "                y, sr = librosa.load(path+\"/\"+folder+\"/\"+wav)\n",
    "                mfcc = librosa.feature.mfcc(y=y, sr=sr, n_mfcc=50, hop_length=int(sr*0.01),n_fft=int(sr*0.02)).T  \n",
    "                #n_mfcc 20~50 사이 사용, hop_length, n_fft, .T 의미 불명...\n",
    "                #50으로 해도 val_acc 91%... 시간이 너무 오래걸린다.\n",
    "                X_data.extend(mfcc)\n",
    "                #print(\"MFCC Size : \", len(mfcc))\n",
    "\n",
    "                label = [0 for i in range(len(folders))]\n",
    "                label[tf_classes] = 1\n",
    "\n",
    "                for i in range(len(mfcc)):\n",
    "                    Y_label.append(label)\n",
    "        tf_classes = tf_classes+1\n",
    "    #end loop\n",
    "    print(\"X_data :\",np.shape(X_data))\n",
    "    print(\"Y_label :\",np.shape(Y_label))\n",
    "    X_train, X_test, Y_train, Y_test = train_test_split(np.array(X_data), np.array(Y_label))     #데이터를 섞어서 나누어준다.\n",
    "\n",
    "    xy = (X_train, X_test, Y_train, Y_test)\n",
    "    np.save(\"./data.npy\",xy)\n",
    "\n",
    "print(\"Start FIle Reading\")\n",
    "load_wave_generator(DATA_PATH)\n",
    "\n",
    "print(tf_classes,\" classes!!\")\n",
    "print(\"X_train :\",np.shape(X_train))\n",
    "print(\"Y_train :\",np.shape(Y_train))\n",
    "print(\"X_test :\",np.shape(X_test))\n",
    "print(\"Y_test :\",np.shape(Y_test))"
   ]
  },
  {
   "cell_type": "code",
   "execution_count": 42,
   "metadata": {},
   "outputs": [
    {
     "name": "stdout",
     "output_type": "stream",
     "text": [
      "[-3.33225494e+02  8.73870087e+01  6.20081406e+01  7.71303558e+01\n",
      "  7.95318413e+00 -3.01450043e+01  1.82769737e+01 -1.71459503e+01\n",
      " -1.62600155e+01 -3.58981628e+01  1.36370325e+01 -1.03480740e+01\n",
      " -2.72239637e+00  1.84204464e+01 -3.27201347e+01  8.19599867e-01\n",
      " -2.57262383e+01  4.98209000e+00 -1.00250874e+01 -1.05411186e+01\n",
      " -6.41016388e+00 -1.39782410e+01  1.29339657e+01 -8.03871918e+00\n",
      " -2.19010532e-01 -1.00574303e+01 -1.27879620e+01  5.94979763e+00\n",
      " -1.47964029e+01  6.55685663e-02 -2.10323639e+01  1.14708531e+00\n",
      "  1.05862021e-01 -2.06554546e+01  1.91690087e-01  6.68910789e+00\n",
      "  1.64191780e+01  8.24869633e+00  1.17919292e+01  1.00175514e+01\n",
      " -4.78815031e+00  6.92057133e-01 -1.00707073e+01  8.52055836e+00\n",
      " -1.10320234e+01  3.06187677e+00  5.76412868e+00 -1.66756177e+00\n",
      " -1.08899384e+01 -2.43438387e+00]\n",
      "[1 0 0 0 0 0 0 0]\n",
      "(70957, 50)\n",
      "(70957, 8)\n",
      "(23653, 50)\n",
      "(23653, 8)\n"
     ]
    }
   ],
   "source": [
    "print(X_train[0])\n",
    "print(Y_train[0])\n",
    "print(X_train.shape)\n",
    "print(Y_train.shape)\n",
    "print(X_test.shape)\n",
    "print(Y_test.shape)"
   ]
  },
  {
   "cell_type": "code",
   "execution_count": 45,
   "metadata": {
    "scrolled": true
   },
   "outputs": [
    {
     "name": "stdout",
     "output_type": "stream",
     "text": [
      "Epoch 1/30\n",
      "2218/2218 [==============================] - 2s 905us/step - loss: 0.9041 - accuracy: 0.6739 - val_loss: 0.6150 - val_accuracy: 0.7906\n",
      "Epoch 2/30\n",
      "2218/2218 [==============================] - 2s 872us/step - loss: 0.5688 - accuracy: 0.8063 - val_loss: 0.4956 - val_accuracy: 0.8336\n",
      "Epoch 3/30\n",
      "2218/2218 [==============================] - 2s 852us/step - loss: 0.4788 - accuracy: 0.8382 - val_loss: 0.4464 - val_accuracy: 0.8464\n",
      "Epoch 4/30\n",
      "2218/2218 [==============================] - 2s 856us/step - loss: 0.4289 - accuracy: 0.8540 - val_loss: 0.4329 - val_accuracy: 0.8525\n",
      "Epoch 5/30\n",
      "2218/2218 [==============================] - 2s 858us/step - loss: 0.3914 - accuracy: 0.8657 - val_loss: 0.4326 - val_accuracy: 0.8551\n",
      "Epoch 6/30\n",
      "2218/2218 [==============================] - 2s 853us/step - loss: 0.3646 - accuracy: 0.8762 - val_loss: 0.3842 - val_accuracy: 0.8691\n",
      "Epoch 7/30\n",
      "2218/2218 [==============================] - 2s 859us/step - loss: 0.3436 - accuracy: 0.8830 - val_loss: 0.3766 - val_accuracy: 0.8745\n",
      "Epoch 8/30\n",
      "2218/2218 [==============================] - 2s 864us/step - loss: 0.3224 - accuracy: 0.8891 - val_loss: 0.3656 - val_accuracy: 0.8785\n",
      "Epoch 9/30\n",
      "2218/2218 [==============================] - 2s 855us/step - loss: 0.3067 - accuracy: 0.8945 - val_loss: 0.3912 - val_accuracy: 0.8676\n",
      "Epoch 10/30\n",
      "2218/2218 [==============================] - 2s 853us/step - loss: 0.2938 - accuracy: 0.8995 - val_loss: 0.3705 - val_accuracy: 0.8792\n",
      "Epoch 11/30\n",
      "2218/2218 [==============================] - 2s 867us/step - loss: 0.2806 - accuracy: 0.9037 - val_loss: 0.3734 - val_accuracy: 0.8770\n",
      "Epoch 12/30\n",
      "2218/2218 [==============================] - 2s 857us/step - loss: 0.2726 - accuracy: 0.9071 - val_loss: 0.3856 - val_accuracy: 0.8734\n",
      "Epoch 13/30\n",
      "2218/2218 [==============================] - 2s 856us/step - loss: 0.2590 - accuracy: 0.9115 - val_loss: 0.4041 - val_accuracy: 0.8814\n",
      "Epoch 14/30\n",
      "2218/2218 [==============================] - 2s 865us/step - loss: 0.2506 - accuracy: 0.9143 - val_loss: 0.3994 - val_accuracy: 0.8751\n",
      "Epoch 15/30\n",
      "2218/2218 [==============================] - 2s 857us/step - loss: 0.2409 - accuracy: 0.9169 - val_loss: 0.3559 - val_accuracy: 0.8842\n",
      "Epoch 16/30\n",
      "2218/2218 [==============================] - 2s 884us/step - loss: 0.2343 - accuracy: 0.9191 - val_loss: 0.3783 - val_accuracy: 0.8783\n",
      "Epoch 17/30\n",
      "2218/2218 [==============================] - 2s 879us/step - loss: 0.2259 - accuracy: 0.9215 - val_loss: 0.3628 - val_accuracy: 0.8865\n",
      "Epoch 18/30\n",
      "2218/2218 [==============================] - 2s 876us/step - loss: 0.2230 - accuracy: 0.9234 - val_loss: 0.3698 - val_accuracy: 0.8864\n",
      "Epoch 19/30\n",
      "2218/2218 [==============================] - 2s 854us/step - loss: 0.2119 - accuracy: 0.9267 - val_loss: 0.3642 - val_accuracy: 0.8895\n",
      "Epoch 20/30\n",
      "2218/2218 [==============================] - 2s 862us/step - loss: 0.2053 - accuracy: 0.9286 - val_loss: 0.3605 - val_accuracy: 0.8901\n",
      "Epoch 21/30\n",
      "2218/2218 [==============================] - 2s 883us/step - loss: 0.2051 - accuracy: 0.9288 - val_loss: 0.3712 - val_accuracy: 0.8906\n",
      "Epoch 22/30\n",
      "2218/2218 [==============================] - 2s 872us/step - loss: 0.1917 - accuracy: 0.9330 - val_loss: 0.3873 - val_accuracy: 0.8839\n",
      "Epoch 23/30\n",
      "2218/2218 [==============================] - 2s 858us/step - loss: 0.1927 - accuracy: 0.9330 - val_loss: 0.3846 - val_accuracy: 0.8895\n",
      "Epoch 24/30\n",
      "2218/2218 [==============================] - 2s 879us/step - loss: 0.1865 - accuracy: 0.9357 - val_loss: 0.3968 - val_accuracy: 0.8850\n",
      "Epoch 25/30\n",
      "2218/2218 [==============================] - 2s 867us/step - loss: 0.1822 - accuracy: 0.9360 - val_loss: 0.3584 - val_accuracy: 0.8922\n",
      "Epoch 26/30\n",
      "2218/2218 [==============================] - 2s 873us/step - loss: 0.1800 - accuracy: 0.9368 - val_loss: 0.4175 - val_accuracy: 0.8880\n",
      "Epoch 27/30\n",
      "2218/2218 [==============================] - 2s 860us/step - loss: 0.1731 - accuracy: 0.9389 - val_loss: 0.4122 - val_accuracy: 0.8909\n",
      "Epoch 28/30\n",
      "2218/2218 [==============================] - 2s 864us/step - loss: 0.1720 - accuracy: 0.9399 - val_loss: 0.3981 - val_accuracy: 0.8877\n",
      "Epoch 29/30\n",
      "2218/2218 [==============================] - 2s 867us/step - loss: 0.1671 - accuracy: 0.9422 - val_loss: 0.4339 - val_accuracy: 0.8780\n",
      "Epoch 30/30\n",
      "2218/2218 [==============================] - 2s 858us/step - loss: 0.1645 - accuracy: 0.9425 - val_loss: 0.4040 - val_accuracy: 0.8894\n",
      "Learning Finished!\n"
     ]
    }
   ],
   "source": [
    "X_train, X_test, Y_train, Y_test = np.load(\"./data.npy\", allow_pickle=True)\n",
    "X_train = X_train.astype(\"float\")\n",
    "X_test = X_test.astype(\"float\")\n",
    "\n",
    "\n",
    "class MyModel(tf.keras.Model):             #모델 클래스 선언\n",
    "                                            #GRU, LSTM은 DNN과 혼용 불가..?\n",
    "    def __init__(self):\n",
    "        super(MyModel,self).__init__()\n",
    "        self.dense1 = layers.Dense(256, activation='relu')\n",
    "        self.dense2 = layers.Dense(128, activation='relu')\n",
    "        self.dense3 = layers.Dense(64, activation='relu')\n",
    "        self.dense4 = layers.Dense(32, activation='relu')\n",
    "        self.dense5 = layers.Dense(64, activation='relu')\n",
    "        self.dense6 = layers.Dense(16, activation='relu')\n",
    "        self.dense7 = layers.Dense(32, activation='relu')\n",
    "        self.dense8 = layers.Dense(64, activation='relu')\n",
    "        self.dense9 = layers.Dense(8, activation='softmax')\n",
    "        \n",
    "    def call(self, inputs):\n",
    "        x = self.dense1(inputs)\n",
    "        x = self.dense2(x)\n",
    "        x = self.dense3(x)\n",
    "        x = self.dense4(x)\n",
    "        x = self.dense5(x)\n",
    "        x = self.dense6(x)\n",
    "        x = self.dense7(x)\n",
    "        x = self.dense8(x)\n",
    "        return self.dense9(x)\n",
    "\n",
    "batch_size = 32\n",
    "model = MyModel()\n",
    "model.compile(optimizer='adam',\n",
    "              loss='categorical_crossentropy',     #라벨이 0,1일경우 사용가능 한 loss모델\n",
    "              metrics=['accuracy'])\n",
    "history = model.fit(X_train, Y_train, epochs=30, batch_size=batch_size,\n",
    "         validation_data = (X_test, Y_test))\n",
    "\n",
    "\n",
    "print('Learning Finished!')\n"
   ]
  },
  {
   "cell_type": "code",
   "execution_count": 46,
   "metadata": {},
   "outputs": [
    {
     "name": "stdout",
     "output_type": "stream",
     "text": [
      "INFO:tensorflow:Assets written to: MFCC_DNN\\assets\n"
     ]
    },
    {
     "data": {
      "image/png": "[encoded data removed]",
      "text/plain": [
       "<Figure size 432x288 with 1 Axes>"
      ]
     },
     "metadata": {
      "needs_background": "light"
     },
     "output_type": "display_data"
    }
   ],
   "source": [
    "saver = model.save(\"MFCC_DNN\")    #오류 날떄 안날떄 원인 불명....\n",
    "\n",
    "plt.plot(history.history['accuracy'])\n",
    "plt.plot(history.history['val_accuracy'])\n",
    "\n",
    "plt.legend(['training', 'loss'], loc = 'upper left')\n",
    "plt.show()"
   ]
  },
  {
   "cell_type": "code",
   "execution_count": 36,
   "metadata": {},
   "outputs": [
    {
     "name": "stdout",
     "output_type": "stream",
     "text": [
      "(502, 50)\n",
      "(502, 5)\n",
      "[0, 1, 495, 1, 5, 0, 0, 0]\n",
      "accuracy is  98.60557768924303\n"
     ]
    }
   ],
   "source": [
    "y, sr = librosa.load(\"./test_이재은.wav\")\n",
    "\n",
    "X_test = librosa.feature.mfcc(y=y, sr=sr, n_mfcc=50, hop_length=int(sr*0.01),n_fft=int(sr*0.02)).T\n",
    "\n",
    "'''\n",
    "0 유인나\n",
    "1 배철수\n",
    "2 이재은\n",
    "3 최일구\n",
    "4 문재인 대통령\n",
    "'''\n",
    "label = [0 for i in range(5)]#class가 3개이니까 y_test만드는 과정\n",
    "label[2] = 1\n",
    "Y_test = []\n",
    "for i in range(len(X_test)):\n",
    "    Y_test.append(label)\n",
    "\n",
    "print(np.shape(X_test))\n",
    "print(np.shape(Y_test))\n",
    "\n",
    "pridict = model.predict(X_test)\n",
    "rst = [0,0,0,0,0,0,0,0]\n",
    "for i in range(len(pridict)):\n",
    "    rst[np.argmax(pridict[i])] = rst[np.argmax(pridict[i])] +1\n",
    "print(rst)\n",
    "accuracy = (rst[2]/len(pridict))*100\n",
    "print(\"accuracy is \", accuracy)"
   ]
  },
  {
   "cell_type": "code",
   "execution_count": 37,
   "metadata": {},
   "outputs": [
    {
     "name": "stdout",
     "output_type": "stream",
     "text": [
      "(502, 50)\n",
      "(502, 5)\n",
      "[416, 32, 31, 11, 11, 1]\n",
      "accuracy is  82.86852589641434\n"
     ]
    }
   ],
   "source": [
    "y, sr = librosa.load(\"./test_유인나1.wav\")\n",
    "\n",
    "X_test = librosa.feature.mfcc(y=y, sr=sr, n_mfcc=50, hop_length=int(sr*0.01),n_fft=int(sr*0.02)).T\n",
    "\n",
    "'''\n",
    "0 유인나\n",
    "1 배철수\n",
    "2 이재은\n",
    "3 최일구\n",
    "4 문재인 대통령\n",
    "'''\n",
    "label = [0 for i in range(5)]#class가 3개이니까 y_test만드는 과정\n",
    "label[2] = 1\n",
    "Y_test = []\n",
    "for i in range(len(X_test)):\n",
    "    Y_test.append(label)\n",
    "\n",
    "print(np.shape(X_test))\n",
    "print(np.shape(Y_test))\n",
    "\n",
    "pridict = model.predict(X_test)\n",
    "rst = [0,0,0,0,0,0]\n",
    "for i in range(len(pridict)):\n",
    "    rst[np.argmax(pridict[i])] = rst[np.argmax(pridict[i])] +1\n",
    "print(rst)\n",
    "accuracy = (rst[0]/len(pridict))*100\n",
    "print(\"accuracy is \", accuracy)"
   ]
  },
  {
   "cell_type": "code",
   "execution_count": 40,
   "metadata": {},
   "outputs": [
    {
     "name": "stdout",
     "output_type": "stream",
     "text": [
      "(502, 50)\n",
      "(502, 5)\n",
      "[487, 10, 2, 1, 2, 0]\n",
      "accuracy is  97.01195219123507\n"
     ]
    }
   ],
   "source": [
    "y, sr = librosa.load(\"./test_유인나2.wav\")\n",
    "\n",
    "X_test = librosa.feature.mfcc(y=y, sr=sr, n_mfcc=, hop_length=int(sr*0.01),n_fft=int(sr*0.02)).T\n",
    "\n",
    "'''\n",
    "0 유인나\n",
    "1 배철수\n",
    "2 이재은\n",
    "3 최일구\n",
    "4 문재인 대통령\n",
    "'''\n",
    "label = [0 for i in range(5)]#class가 3개이니까 y_test만드는 과정\n",
    "label[2] = 1\n",
    "Y_test = []\n",
    "for i in range(len(X_test)):\n",
    "    Y_test.append(label)\n",
    "\n",
    "print(np.shape(X_test))\n",
    "print(np.shape(Y_test))\n",
    "\n",
    "pridict = model.predict(X_test)\n",
    "rst = [0,0,0,0,0,0]\n",
    "for i in range(len(pridict)):\n",
    "    rst[np.argmax(pridict[i])] = rst[np.argmax(pridict[i])] +1\n",
    "print(rst)\n",
    "accuracy = (rst[0]/len(pridict))*100\n",
    "print(\"accuracy is \", accuracy)"
   ]
  },
  {
   "cell_type": "code",
   "execution_count": 38,
   "metadata": {},
   "outputs": [
    {
     "name": "stdout",
     "output_type": "stream",
     "text": [
      "(502, 50)\n",
      "(502, 5)\n",
      "[4, 450, 12, 14, 16, 6]\n",
      "accuracy is  89.64143426294821\n"
     ]
    }
   ],
   "source": [
    "y, sr = librosa.load(\"./test_배철수.wav\")\n",
    "\n",
    "X_test = librosa.feature.mfcc(y=y, sr=sr, n_mfcc=50, hop_length=int(sr*0.01),n_fft=int(sr*0.02)).T\n",
    "\n",
    "'''\n",
    "0 유인나\n",
    "1 배철수\n",
    "2 이재은\n",
    "3 최일구\n",
    "4 문재인 대통령\n",
    "'''\n",
    "label = [0 for i in range(5)]#class가 3개이니까 y_test만드는 과정\n",
    "label[2] = 1\n",
    "Y_test = []\n",
    "for i in range(len(X_test)):\n",
    "    Y_test.append(label)\n",
    "\n",
    "print(np.shape(X_test))\n",
    "print(np.shape(Y_test))\n",
    "\n",
    "pridict = model.predict(X_test)\n",
    "rst = [0,0,0,0,0,0]\n",
    "for i in range(len(pridict)):\n",
    "    rst[np.argmax(pridict[i])] = rst[np.argmax(pridict[i])] +1\n",
    "print(rst)\n",
    "accuracy = (rst[1]/len(pridict))*100\n",
    "print(\"accuracy is \", accuracy)"
   ]
  },
  {
   "cell_type": "code",
   "execution_count": 39,
   "metadata": {},
   "outputs": [
    {
     "name": "stdout",
     "output_type": "stream",
     "text": [
      "(502, 50)\n",
      "(502, 5)\n",
      "[2, 23, 8, 23, 432, 14]\n",
      "accuracy is  86.05577689243027\n"
     ]
    }
   ],
   "source": [
    "y, sr = librosa.load(\"./test_문재인대통령.wav\")\n",
    "\n",
    "X_test = librosa.feature.mfcc(y=y, sr=sr, n_mfcc=50, hop_length=int(sr*0.01),n_fft=int(sr*0.02)).T\n",
    "\n",
    "'''\n",
    "0 유인나\n",
    "1 배철수\n",
    "2 이재은\n",
    "3 최일구\n",
    "4 문재인 대통령\n",
    "'''\n",
    "label = [0 for i in range(5)]#class가 3개이니까 y_test만드는 과정\n",
    "label[2] = 1\n",
    "Y_test = []\n",
    "for i in range(len(X_test)):\n",
    "    Y_test.append(label)\n",
    "\n",
    "print(np.shape(X_test))\n",
    "print(np.shape(Y_test))\n",
    "\n",
    "pridict = model.predict(X_test)\n",
    "rst = [0,0,0,0,0,0]\n",
    "for i in range(len(pridict)):\n",
    "    rst[np.argmax(pridict[i])] = rst[np.argmax(pridict[i])] +1\n",
    "print(rst)\n",
    "accuracy = (rst[4]/len(pridict))*100\n",
    "print(\"accuracy is \", accuracy)"
   ]
  },
  {
   "cell_type": "code",
   "execution_count": null,
   "metadata": {},
   "outputs": [],
   "source": []
  }
 ],
 "metadata": {
  "kernelspec": {
   "display_name": "tensorflow",
   "language": "python",
   "name": "tensorflow"
  },
  "language_info": {
   "codemirror_mode": {
    "name": "ipython",
    "version": 3
   },
   "file_extension": ".py",
   "mimetype": "text/x-python",
   "name": "python",
   "nbconvert_exporter": "python",
   "pygments_lexer": "ipython3",
   "version": "3.8.8"
  }
 },
 "nbformat": 4,
 "nbformat_minor": 2
}
